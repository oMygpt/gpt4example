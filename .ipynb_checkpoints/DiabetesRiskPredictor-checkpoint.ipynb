{
 "cells": [
  {
   "cell_type": "code",
   "execution_count": 2,
   "id": "c2c884e8-ecba-4cde-8452-25abcfb5005f",
   "metadata": {},
   "outputs": [
    {
     "name": "stdout",
     "output_type": "stream",
     "text": [
      "Model accuracy: 1.00\n"
     ]
    }
   ],
   "source": [
    "import numpy as np\n",
    "from sklearn.linear_model import LogisticRegression\n",
    "from sklearn.model_selection import train_test_split\n",
    "from sklearn.preprocessing import StandardScaler\n",
    "\n",
    "# 示例病人数据，数据格式：[年龄，性别（0：女，1：男），体重（kg），身高（cm），验血结果]\n",
    "X = np.array([\n",
    "    [45, 0, 70, 160, 100],\n",
    "    [60, 1, 85, 175, 130],\n",
    "    [30, 1, 60, 180, 110],\n",
    "    [25, 0, 55, 165, 90],\n",
    "    [55, 0, 72, 155, 120],\n",
    "    [40, 1, 80, 170, 105],\n",
    "    [65, 0, 68, 150, 135],\n",
    "    [35, 1, 78, 190, 95],\n",
    "])\n",
    "\n",
    "# 对应的标签：1表示糖尿病风险增加，0表示正常\n",
    "y = np.array([0, 1, 0, 0, 1, 0, 1, 0])\n",
    "\n",
    "# 将数据分为训练集和测试集\n",
    "X_train, X_test, y_train, y_test = train_test_split(X, y, test_size=0.2, random_state=42)\n",
    "\n",
    "# 数据预处理（标准化）\n",
    "scaler = StandardScaler()\n",
    "X_train = scaler.fit_transform(X_train)\n",
    "X_test = scaler.transform(X_test)\n",
    "\n",
    "# 训练逻辑回归模型\n",
    "model = LogisticRegression()\n",
    "model.fit(X_train, y_train)\n",
    "\n",
    "# 在测试集上评估模型\n",
    "accuracy = model.score(X_test, y_test)\n",
    "print(f\"Model accuracy: {accuracy:.2f}\")\n",
    "\n",
    "# 预测新病人的糖尿病风险\n",
    "def predict_diabetes_risk(age, gender, weight, height, blood_test_result):\n",
    "    patient_data = np.array([[age, gender, weight, height, blood_test_result]])\n",
    "    patient_data = scaler.transform(patient_data)\n",
    "    risk_prediction = model.predict(patient_data)\n",
    "    return risk_prediction[0]\n",
    "\n"
   ]
  },
  {
   "cell_type": "code",
   "execution_count": 8,
   "id": "cd407bae-5343-4696-9d83-a4c2a160ec13",
   "metadata": {},
   "outputs": [
    {
     "name": "stdout",
     "output_type": "stream",
     "text": [
      "Diabetes risk is normal.\n"
     ]
    }
   ],
   "source": [
    "# 示例：预测一个病人的糖尿病风险\n",
    "age = 57\n",
    "gender = 1  # 0 for female, 1 for male\n",
    "weight = 80\n",
    "height = 175\n",
    "blood_test_result = 100\n",
    "\n",
    "risk = predict_diabetes_risk(age, gender, weight, height, blood_test_result)\n",
    "if risk == 1:\n",
    "    print(\"Diabetes risk is increased.\")\n",
    "else:\n",
    "    print(\"Diabetes risk is normal.\")\n"
   ]
  },
  {
   "cell_type": "code",
   "execution_count": null,
   "id": "8ea0fa9a-5122-4e5b-9a85-40d3fee4e88e",
   "metadata": {},
   "outputs": [],
   "source": []
  }
 ],
 "metadata": {
  "kernelspec": {
   "display_name": "Python 3 (ipykernel)",
   "language": "python",
   "name": "python3"
  },
  "language_info": {
   "codemirror_mode": {
    "name": "ipython",
    "version": 3
   },
   "file_extension": ".py",
   "mimetype": "text/x-python",
   "name": "python",
   "nbconvert_exporter": "python",
   "pygments_lexer": "ipython3",
   "version": "3.9.12"
  }
 },
 "nbformat": 4,
 "nbformat_minor": 5
}
